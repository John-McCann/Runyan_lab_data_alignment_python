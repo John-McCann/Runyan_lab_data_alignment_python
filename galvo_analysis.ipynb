{
 "cells": [
  {
   "cell_type": "markdown",
   "metadata": {},
   "source": [
    "# Galvo Target Analysis\n",
    "This notebook performs analysis of galvo targeting data using the GalvoTargetAnalysis class."
   ]
  },
  {
   "cell_type": "code",
   "execution_count": null,
   "metadata": {},
   "source": [
    "import numpy as np\n",
    "from process_spirals import GalvoTargetAnalysis\n",
    "import os\n",
    "import matplotlib.pyplot as plt\n",
    "%matplotlib inline"
   ]
  },
  {
   "cell_type": "markdown",
   "metadata": {},
   "source": [
    "## Initialize Analyzer and Get Directories"
   ]
  },
  {
   "cell_type": "code",
   "execution_count": null,
   "metadata": {},
   "source": [
    "# Initialize analyzer\n",
    "analyzer = GalvoTargetAnalysis()\n",
    "\n",
    "# Get directories through GUI\n",
    "analyzer.get_directories()"
   ]
  },
  {
   "cell_type": "markdown",
   "metadata": {},
   "source": [
    "## Set Parameters and Load Data"
   ]
  },
  {
   "cell_type": "code",
   "execution_count": null,
   "metadata": {},
   "source": [
    "# Set number of channels\n",
    "analyzer.nchannels = 2  # Adjust if different\n",
    "\n",
    "# Load Suite2p data\n",
    "analyzer.load_suite2p_data()\n",
    "print(\"Suite2p data loaded successfully\")"
   ]
  },
  {
   "cell_type": "markdown",
   "metadata": {},
   "source": [
    "## Get Frame Timing Information\n",
    "This cell will show plots for verification. Press Enter in the output to continue through the plots."
   ]
  },
  {
   "cell_type": "code",
   "execution_count": null,
   "metadata": {},
   "source": [
    "# Get frame timing information\n",
    "analyzer.get_frame_times(channel_number=5, plot_on=True)"
   ]
  },
  {
   "cell_type": "markdown",
   "metadata": {},
   "source": [
    "## Get Spiral Locations and Timing"
   ]
  },
  {
   "cell_type": "code",
   "execution_count": null,
   "metadata": {},
   "source": [
    "# Get spiral locations and timing\n",
    "analyzer.get_spiral_locations(min_height=0.5, min_prom=0.1)"
   ]
  },
  {
   "cell_type": "markdown",
   "metadata": {},
   "source": [
    "## Process Targets and Trials"
   ]
  },
  {
   "cell_type": "code",
   "execution_count": null,
   "metadata": {},
   "source": [
    "# Set trial window parameters\n",
    "pre_trial_window = 30\n",
    "post_trial_window = 30\n",
    "\n",
    "# Process targets and trials\n",
    "analyzer.process_targets_and_trials(\n",
    "    pre_trial_window=pre_trial_window,\n",
    "    post_trial_window=post_trial_window\n",
    ")"
   ]
  },
  {
   "cell_type": "markdown",
   "metadata": {},
   "source": [
    "## Create ROI Activity Plots"
   ]
  },
  {
   "cell_type": "code",
   "execution_count": null,
   "metadata": {},
   "source": [
    "# Create save directory for ROI plots\n",
    "roi_plot_dir = os.path.join(analyzer.save_folder, 'roi plots')\n",
    "os.makedirs(roi_plot_dir, exist_ok=True)\n",
    "\n",
    "# Process each ROI\n",
    "F_struct = {}\n",
    "F_struct2 = {}\n",
    "Fneu_struct = {}\n",
    "\n",
    "for roi in range(analyzer.F.shape[0]):\n",
    "    for target_id in range(len(analyzer.alignment_info[-1]['points'])):\n",
    "        trial_frames = analyzer.trial_frames[target_id]\n",
    "        \n",
    "        if target_id not in F_struct:\n",
    "            F_struct[target_id] = []\n",
    "            F_struct2[target_id] = []\n",
    "            Fneu_struct[target_id] = []\n",
    "        \n",
    "        for tr in range(trial_frames.shape[0]):\n",
    "            if max(trial_frames[tr]) < analyzer.F.shape[1]:\n",
    "                frames = trial_frames[tr].astype(int)\n",
    "                \n",
    "                # Store different versions of fluorescence traces\n",
    "                F_trace = analyzer.F[roi, frames]\n",
    "                Fneu_trace = analyzer.Fneu[roi, frames]\n",
    "                F_corrected = F_trace - 0.7 * Fneu_trace\n",
    "                \n",
    "                F_struct[target_id].append(F_trace)\n",
    "                F_struct2[target_id].append(F_corrected)\n",
    "                Fneu_struct[target_id].append(Fneu_trace)"
   ]
  },
  {
   "cell_type": "markdown",
   "metadata": {},
   "source": [
    "## Plot and Save ROI Activity"
   ]
  },
  {
   "cell_type": "code",
   "execution_count": null,
   "metadata": {},
   "source": [
    "# Create plots\n",
    "for i in range(len(analyzer.alignment_info[-1]['points'])):\n",
    "    plt.figure(figsize=(15, 5))\n",
    "    \n",
    "    # Sort by distance\n",
    "    _, order = np.argsort(analyzer.dist_id[i])\n",
    "    \n",
    "    for n, idx in enumerate(order):\n",
    "        plt.subplot(1, len(analyzer.target_id[i]), n+1)\n",
    "        \n",
    "        # Plot individual trials and mean\n",
    "        traces = np.array(F_struct2[i])[:, :, analyzer.target_id[i][idx]]\n",
    "        plt.plot(traces.T, 'gray', alpha=0.3)\n",
    "        plt.plot(np.mean(traces, axis=0), 'k', linewidth=2)\n",
    "        \n",
    "        plt.title(f'ROI {analyzer.target_id[i][idx]}')\n",
    "    \n",
    "    plt.tight_layout()\n",
    "    plt.savefig(os.path.join(roi_plot_dir, f'{i+1} candidate rois neu correct'))\n",
    "    plt.show()"
   ]
  },
  {
   "cell_type": "markdown",
   "metadata": {},
   "source": [
    "## Analysis Complete\n",
    "Check the save folder for results and generated plots."
   ]
  }
 ],
 "metadata": {
  "kernelspec": {
   "display_name": "Python 3",
   "language": "python",
   "name": "python3"
  },
  "language_info": {
   "codemirror_mode": {
    "name": "ipython",
    "version": 3
   },
   "file_extension": ".py",
   "mimetype": "text/x-python",
   "name": "python",
   "nbconvert_exporter": "python",
   "pygments_lexer": "ipython3",
   "version": "3.8.0"
  }
 },
 "nbformat": 4,
 "nbformat_minor": 4
}